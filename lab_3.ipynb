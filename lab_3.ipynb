{
 "cells": [
  {
   "cell_type": "code",
   "execution_count": 39,
   "id": "3eb52246",
   "metadata": {},
   "outputs": [],
   "source": [
    "import numpy as np\n",
    "import k3d\n",
    "from numpy import genfromtxt\n",
    "from pykrige.ok3d import OrdinaryKriging3D\n",
    "\n",
    "data = genfromtxt('data.csv', delimiter=',')\n",
    "s = 10\n",
    "r=50\n",
    "n=0.5\n",
    "gridx = np.arange(0.0, 100, 1)\n",
    "gridy = np.arange(0.0, 100, 1)\n",
    "gridz = np.arange(0.0, 100, 1)"
   ]
  },
  {
   "cell_type": "code",
   "execution_count": 40,
   "id": "2b8c6347",
   "metadata": {},
   "outputs": [],
   "source": [
    "ok3d = OrdinaryKriging3D(data[:, 0], data[:, 1], data[:, 2], data[:, 3], variogram_model=\"gaussian\", \n",
    "                        variogram_parameters={'sill': s, 'range': r, 'nugget': n})\n",
    "k3d1, ss3d = ok3d.execute(\"grid\", gridx, gridy, gridz)"
   ]
  },
  {
   "cell_type": "code",
   "execution_count": 41,
   "id": "8a10dca5",
   "metadata": {
    "scrolled": true
   },
   "outputs": [
    {
     "data": {
      "application/vnd.jupyter.widget-view+json": {
       "model_id": "c813af18e3b94b7587551333689ba3f2",
       "version_major": 2,
       "version_minor": 0
      },
      "text/plain": [
       "Output()"
      ]
     },
     "metadata": {},
     "output_type": "display_data"
    }
   ],
   "source": [
    "plt_volume = k3d.volume(k3d1, color_range=[2.5,3], bounds=[0, 100, 0, 100, 0, 100])\n",
    "\n",
    "plot = k3d.plot()\n",
    "plot += plt_volume\n",
    "plot.display()"
   ]
  },
  {
   "cell_type": "code",
   "execution_count": null,
   "id": "5518120f",
   "metadata": {},
   "outputs": [],
   "source": []
  }
 ],
 "metadata": {
  "kernelspec": {
   "display_name": "Python 3 (ipykernel)",
   "language": "python",
   "name": "python3"
  },
  "language_info": {
   "codemirror_mode": {
    "name": "ipython",
    "version": 3
   },
   "file_extension": ".py",
   "mimetype": "text/x-python",
   "name": "python",
   "nbconvert_exporter": "python",
   "pygments_lexer": "ipython3",
   "version": "3.8.11"
  }
 },
 "nbformat": 4,
 "nbformat_minor": 5
}
